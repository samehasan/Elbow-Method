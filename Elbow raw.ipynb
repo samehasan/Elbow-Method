{
 "cells": [
  {
   "cell_type": "markdown",
   "id": "302d15a8",
   "metadata": {},
   "source": [
    "# Import Libraries"
   ]
  },
  {
   "cell_type": "code",
   "execution_count": 2,
   "id": "2c354e08",
   "metadata": {},
   "outputs": [],
   "source": [
    "import pandas as pd\n",
    "import numpy as np\n",
    "import seaborn as sns\n",
    "import math\n",
    "import matplotlib.pyplot as plt\n",
    "import random\n",
    "%matplotlib inline"
   ]
  },
  {
   "cell_type": "markdown",
   "id": "4eb69ba7",
   "metadata": {},
   "source": [
    "# Dataset"
   ]
  },
  {
   "cell_type": "code",
   "execution_count": 3,
   "id": "9f198f23",
   "metadata": {},
   "outputs": [
    {
     "data": {
      "text/html": [
       "<div>\n",
       "<style scoped>\n",
       "    .dataframe tbody tr th:only-of-type {\n",
       "        vertical-align: middle;\n",
       "    }\n",
       "\n",
       "    .dataframe tbody tr th {\n",
       "        vertical-align: top;\n",
       "    }\n",
       "\n",
       "    .dataframe thead th {\n",
       "        text-align: right;\n",
       "    }\n",
       "</style>\n",
       "<table border=\"1\" class=\"dataframe\">\n",
       "  <thead>\n",
       "    <tr style=\"text-align: right;\">\n",
       "      <th></th>\n",
       "      <th>weight</th>\n",
       "      <th>ph</th>\n",
       "    </tr>\n",
       "  </thead>\n",
       "  <tbody>\n",
       "    <tr>\n",
       "      <th>0</th>\n",
       "      <td>1</td>\n",
       "      <td>1</td>\n",
       "    </tr>\n",
       "    <tr>\n",
       "      <th>1</th>\n",
       "      <td>2</td>\n",
       "      <td>1</td>\n",
       "    </tr>\n",
       "    <tr>\n",
       "      <th>2</th>\n",
       "      <td>4</td>\n",
       "      <td>3</td>\n",
       "    </tr>\n",
       "    <tr>\n",
       "      <th>3</th>\n",
       "      <td>5</td>\n",
       "      <td>4</td>\n",
       "    </tr>\n",
       "  </tbody>\n",
       "</table>\n",
       "</div>"
      ],
      "text/plain": [
       "   weight  ph\n",
       "0       1   1\n",
       "1       2   1\n",
       "2       4   3\n",
       "3       5   4"
      ]
     },
     "execution_count": 3,
     "metadata": {},
     "output_type": "execute_result"
    }
   ],
   "source": [
    "lst1 = [1,2,4,5]\n",
    "lst2 =[1,1,3,4]\n",
    "X = pd.DataFrame(list(zip(lst1, lst2)),columns =['weight', 'ph'])\n",
    "X"
   ]
  },
  {
   "cell_type": "markdown",
   "id": "132cd295",
   "metadata": {},
   "source": [
    "# Plot Data"
   ]
  },
  {
   "cell_type": "code",
   "execution_count": 4,
   "id": "6c0d6d6c",
   "metadata": {
    "scrolled": true
   },
   "outputs": [
    {
     "data": {
      "image/png": "[encoded data removed]",
      "text/plain": [
       "<Figure size 432x288 with 1 Axes>"
      ]
     },
     "metadata": {
      "needs_background": "light"
     },
     "output_type": "display_data"
    }
   ],
   "source": [
    "sns.scatterplot(x=\"weight\", y=\"ph\",data=X)\n",
    "plt.show()"
   ]
  },
  {
   "cell_type": "markdown",
   "id": "dade9292",
   "metadata": {},
   "source": [
    "# Elbow Method without SKlearn Kmeans Library"
   ]
  },
  {
   "cell_type": "markdown",
   "id": "7fecb644",
   "metadata": {},
   "source": [
    "# When the number of cluster = 1"
   ]
  },
  {
   "cell_type": "code",
   "execution_count": 5,
   "id": "907d502c",
   "metadata": {},
   "outputs": [
    {
     "data": {
      "text/plain": [
       "4"
      ]
     },
     "execution_count": 5,
     "metadata": {},
     "output_type": "execute_result"
    }
   ],
   "source": [
    "n1= X.shape[0]\n",
    "n1"
   ]
  },
  {
   "cell_type": "code",
   "execution_count": 10,
   "id": "3fa270b3",
   "metadata": {},
   "outputs": [],
   "source": [
    "X1 = X.weight\n",
    "Y1 = X.ph\n",
    "sum_X1=sum(X1)\n",
    "sum_Y1=sum(Y1)\n",
    "mean_X1=sum_X1/n1\n",
    "mean_Y1=sum_Y1/n1"
   ]
  },
  {
   "cell_type": "code",
   "execution_count": 11,
   "id": "325706fa",
   "metadata": {},
   "outputs": [
    {
     "name": "stdout",
     "output_type": "stream",
     "text": [
      "3.0\n",
      "2.25\n"
     ]
    }
   ],
   "source": [
    "print (mean_X1)\n",
    "print (mean_Y1)"
   ]
  },
  {
   "cell_type": "code",
   "execution_count": 12,
   "id": "cd102af5",
   "metadata": {},
   "outputs": [],
   "source": [
    "sum1=sum2=SSE1=0.00"
   ]
  },
  {
   "cell_type": "code",
   "execution_count": 13,
   "id": "7653651c",
   "metadata": {},
   "outputs": [
    {
     "data": {
      "text/plain": [
       "16.75"
      ]
     },
     "execution_count": 13,
     "metadata": {},
     "output_type": "execute_result"
    }
   ],
   "source": [
    "for i in range(len(X1)):\n",
    "    cal1=(X1[i]-mean_X1)**2\n",
    "    sum1+=np.sum(cal1)\n",
    "for i in range(len(Y1)):   \n",
    "    cal2=(Y1[i]-mean_Y1)**2\n",
    "    sum2+=np.sum(cal2)\n",
    "    SSE1=sum1+sum2\n",
    "SSE1"
   ]
  },
  {
   "cell_type": "markdown",
   "id": "f7328316",
   "metadata": {},
   "source": [
    "# When the number of cluster = 2"
   ]
  },
  {
   "cell_type": "code",
   "execution_count": 8,
   "id": "ea5a7191",
   "metadata": {},
   "outputs": [
    {
     "data": {
      "text/plain": [
       "2.0"
      ]
     },
     "execution_count": 8,
     "metadata": {},
     "output_type": "execute_result"
    }
   ],
   "source": [
    "n2= X.shape[0]/2\n",
    "n2"
   ]
  },
  {
   "cell_type": "code",
   "execution_count": 9,
   "id": "12b824d3",
   "metadata": {},
   "outputs": [],
   "source": [
    "df1=X.iloc[:2,:]\n",
    "df2=X.iloc[2:,:]"
   ]
  },
  {
   "cell_type": "code",
   "execution_count": 10,
   "id": "6375ef80",
   "metadata": {},
   "outputs": [
    {
     "data": {
      "text/html": [
       "<div>\n",
       "<style scoped>\n",
       "    .dataframe tbody tr th:only-of-type {\n",
       "        vertical-align: middle;\n",
       "    }\n",
       "\n",
       "    .dataframe tbody tr th {\n",
       "        vertical-align: top;\n",
       "    }\n",
       "\n",
       "    .dataframe thead th {\n",
       "        text-align: right;\n",
       "    }\n",
       "</style>\n",
       "<table border=\"1\" class=\"dataframe\">\n",
       "  <thead>\n",
       "    <tr style=\"text-align: right;\">\n",
       "      <th></th>\n",
       "      <th>weight</th>\n",
       "      <th>ph</th>\n",
       "    </tr>\n",
       "  </thead>\n",
       "  <tbody>\n",
       "    <tr>\n",
       "      <th>0</th>\n",
       "      <td>1</td>\n",
       "      <td>1</td>\n",
       "    </tr>\n",
       "    <tr>\n",
       "      <th>1</th>\n",
       "      <td>2</td>\n",
       "      <td>1</td>\n",
       "    </tr>\n",
       "  </tbody>\n",
       "</table>\n",
       "</div>"
      ],
      "text/plain": [
       "   weight  ph\n",
       "0       1   1\n",
       "1       2   1"
      ]
     },
     "execution_count": 10,
     "metadata": {},
     "output_type": "execute_result"
    }
   ],
   "source": [
    "df1"
   ]
  },
  {
   "cell_type": "code",
   "execution_count": 11,
   "id": "b3b0508f",
   "metadata": {},
   "outputs": [
    {
     "data": {
      "text/html": [
       "<div>\n",
       "<style scoped>\n",
       "    .dataframe tbody tr th:only-of-type {\n",
       "        vertical-align: middle;\n",
       "    }\n",
       "\n",
       "    .dataframe tbody tr th {\n",
       "        vertical-align: top;\n",
       "    }\n",
       "\n",
       "    .dataframe thead th {\n",
       "        text-align: right;\n",
       "    }\n",
       "</style>\n",
       "<table border=\"1\" class=\"dataframe\">\n",
       "  <thead>\n",
       "    <tr style=\"text-align: right;\">\n",
       "      <th></th>\n",
       "      <th>weight</th>\n",
       "      <th>ph</th>\n",
       "    </tr>\n",
       "  </thead>\n",
       "  <tbody>\n",
       "    <tr>\n",
       "      <th>2</th>\n",
       "      <td>4</td>\n",
       "      <td>3</td>\n",
       "    </tr>\n",
       "    <tr>\n",
       "      <th>3</th>\n",
       "      <td>5</td>\n",
       "      <td>4</td>\n",
       "    </tr>\n",
       "  </tbody>\n",
       "</table>\n",
       "</div>"
      ],
      "text/plain": [
       "   weight  ph\n",
       "2       4   3\n",
       "3       5   4"
      ]
     },
     "execution_count": 11,
     "metadata": {},
     "output_type": "execute_result"
    }
   ],
   "source": [
    "df2"
   ]
  },
  {
   "cell_type": "code",
   "execution_count": 12,
   "id": "e9a115f0",
   "metadata": {},
   "outputs": [
    {
     "data": {
      "text/html": [
       "<div>\n",
       "<style scoped>\n",
       "    .dataframe tbody tr th:only-of-type {\n",
       "        vertical-align: middle;\n",
       "    }\n",
       "\n",
       "    .dataframe tbody tr th {\n",
       "        vertical-align: top;\n",
       "    }\n",
       "\n",
       "    .dataframe thead th {\n",
       "        text-align: right;\n",
       "    }\n",
       "</style>\n",
       "<table border=\"1\" class=\"dataframe\">\n",
       "  <thead>\n",
       "    <tr style=\"text-align: right;\">\n",
       "      <th></th>\n",
       "      <th>weight</th>\n",
       "      <th>ph</th>\n",
       "    </tr>\n",
       "  </thead>\n",
       "  <tbody>\n",
       "    <tr>\n",
       "      <th>0</th>\n",
       "      <td>4</td>\n",
       "      <td>3</td>\n",
       "    </tr>\n",
       "    <tr>\n",
       "      <th>1</th>\n",
       "      <td>5</td>\n",
       "      <td>4</td>\n",
       "    </tr>\n",
       "  </tbody>\n",
       "</table>\n",
       "</div>"
      ],
      "text/plain": [
       "   weight  ph\n",
       "0       4   3\n",
       "1       5   4"
      ]
     },
     "execution_count": 12,
     "metadata": {},
     "output_type": "execute_result"
    }
   ],
   "source": [
    "df2=df2.reset_index(drop=True)\n",
    "df2"
   ]
  },
  {
   "cell_type": "code",
   "execution_count": 13,
   "id": "18b31658",
   "metadata": {},
   "outputs": [],
   "source": [
    "SSE2=sum3=sum4=sum5=sum6=0.00"
   ]
  },
  {
   "cell_type": "code",
   "execution_count": 14,
   "id": "3ad5e702",
   "metadata": {},
   "outputs": [],
   "source": [
    "a1 = df1.weight\n",
    "a2 = df1.ph\n",
    "sum_a1=sum(a1)\n",
    "sum_a2=sum(a2)\n",
    "mean_a1=sum_a1/n2\n",
    "mean_a2=sum_a2/n2"
   ]
  },
  {
   "cell_type": "code",
   "execution_count": 15,
   "id": "7dcc8a25",
   "metadata": {},
   "outputs": [
    {
     "data": {
      "text/plain": [
       "0.5"
      ]
     },
     "execution_count": 15,
     "metadata": {},
     "output_type": "execute_result"
    }
   ],
   "source": [
    "for i in range(len(a1)):\n",
    "    cal3=(a1[i]-mean_a1)**2\n",
    "    sum3+=np.sum(cal3)\n",
    "for i in range(len(a2)):   \n",
    "    cal4=(a2[i]-mean_a2)**2\n",
    "    sum4+=np.sum(cal4)\n",
    "    \n",
    "s=sum3+sum4\n",
    "s    "
   ]
  },
  {
   "cell_type": "code",
   "execution_count": 16,
   "id": "d0198c71",
   "metadata": {},
   "outputs": [],
   "source": [
    "b1 = df2.weight\n",
    "b2 = df2.ph\n",
    "sum_b1=sum(b1)\n",
    "sum_b2=sum(b2)\n",
    "mean_b1=sum_b1/n2\n",
    "mean_b2=sum_b2/n2"
   ]
  },
  {
   "cell_type": "code",
   "execution_count": 17,
   "id": "7e5de55a",
   "metadata": {},
   "outputs": [],
   "source": [
    "for i in range(len(b1)):\n",
    "    cal5=(b1[i]-mean_b1)**2\n",
    "    sum5+=np.sum(cal5)\n",
    "for i in range(len(b2)):   \n",
    "    cal6=(b2[i]-mean_b2)**2\n",
    "    sum6+=np.sum(cal6)"
   ]
  },
  {
   "cell_type": "code",
   "execution_count": 18,
   "id": "1a05f31c",
   "metadata": {},
   "outputs": [
    {
     "data": {
      "text/plain": [
       "1.5"
      ]
     },
     "execution_count": 18,
     "metadata": {},
     "output_type": "execute_result"
    }
   ],
   "source": [
    "SSE2=sum3+sum4+sum5+sum6\n",
    "SSE2"
   ]
  },
  {
   "cell_type": "markdown",
   "id": "a6f710b6",
   "metadata": {},
   "source": [
    "# When the number of cluster = 3"
   ]
  },
  {
   "cell_type": "code",
   "execution_count": 19,
   "id": "2e80d522",
   "metadata": {},
   "outputs": [],
   "source": [
    "df1=X.iloc[:2,:]\n",
    "df2=X.iloc[2:3,:]\n",
    "df2=df2.reset_index(drop=True)\n",
    "\n",
    "df3=X.iloc[3:4,:]\n",
    "df3=df3.reset_index(drop=True)\n"
   ]
  },
  {
   "cell_type": "code",
   "execution_count": 20,
   "id": "812f9247",
   "metadata": {},
   "outputs": [
    {
     "data": {
      "text/html": [
       "<div>\n",
       "<style scoped>\n",
       "    .dataframe tbody tr th:only-of-type {\n",
       "        vertical-align: middle;\n",
       "    }\n",
       "\n",
       "    .dataframe tbody tr th {\n",
       "        vertical-align: top;\n",
       "    }\n",
       "\n",
       "    .dataframe thead th {\n",
       "        text-align: right;\n",
       "    }\n",
       "</style>\n",
       "<table border=\"1\" class=\"dataframe\">\n",
       "  <thead>\n",
       "    <tr style=\"text-align: right;\">\n",
       "      <th></th>\n",
       "      <th>weight</th>\n",
       "      <th>ph</th>\n",
       "    </tr>\n",
       "  </thead>\n",
       "  <tbody>\n",
       "    <tr>\n",
       "      <th>0</th>\n",
       "      <td>4</td>\n",
       "      <td>3</td>\n",
       "    </tr>\n",
       "  </tbody>\n",
       "</table>\n",
       "</div>"
      ],
      "text/plain": [
       "   weight  ph\n",
       "0       4   3"
      ]
     },
     "execution_count": 20,
     "metadata": {},
     "output_type": "execute_result"
    }
   ],
   "source": [
    "df2"
   ]
  },
  {
   "cell_type": "code",
   "execution_count": 21,
   "id": "68a77a38",
   "metadata": {},
   "outputs": [
    {
     "data": {
      "text/html": [
       "<div>\n",
       "<style scoped>\n",
       "    .dataframe tbody tr th:only-of-type {\n",
       "        vertical-align: middle;\n",
       "    }\n",
       "\n",
       "    .dataframe tbody tr th {\n",
       "        vertical-align: top;\n",
       "    }\n",
       "\n",
       "    .dataframe thead th {\n",
       "        text-align: right;\n",
       "    }\n",
       "</style>\n",
       "<table border=\"1\" class=\"dataframe\">\n",
       "  <thead>\n",
       "    <tr style=\"text-align: right;\">\n",
       "      <th></th>\n",
       "      <th>weight</th>\n",
       "      <th>ph</th>\n",
       "    </tr>\n",
       "  </thead>\n",
       "  <tbody>\n",
       "    <tr>\n",
       "      <th>0</th>\n",
       "      <td>5</td>\n",
       "      <td>4</td>\n",
       "    </tr>\n",
       "  </tbody>\n",
       "</table>\n",
       "</div>"
      ],
      "text/plain": [
       "   weight  ph\n",
       "0       5   4"
      ]
     },
     "execution_count": 21,
     "metadata": {},
     "output_type": "execute_result"
    }
   ],
   "source": [
    "df3 "
   ]
  },
  {
   "cell_type": "code",
   "execution_count": 22,
   "id": "7bbc19aa",
   "metadata": {},
   "outputs": [
    {
     "data": {
      "text/plain": [
       "1.0"
      ]
     },
     "execution_count": 22,
     "metadata": {},
     "output_type": "execute_result"
    }
   ],
   "source": [
    "n3=n2/2\n",
    "n3"
   ]
  },
  {
   "cell_type": "code",
   "execution_count": 23,
   "id": "ff1f0cfb",
   "metadata": {},
   "outputs": [],
   "source": [
    "SSE3=sum7=sum8=sum9=sum10=0.00"
   ]
  },
  {
   "cell_type": "code",
   "execution_count": 24,
   "id": "ba642f02",
   "metadata": {},
   "outputs": [],
   "source": [
    "d1 = df2.weight\n",
    "d2 = df2.ph\n",
    "sum_d1=sum(d1)\n",
    "sum_d2=sum(d2)\n",
    "mean_d1=sum_d1/n3\n",
    "mean_d2=sum_d2/n3\n",
    "for i in range(len(d1)):\n",
    "    cal7=(d1[i]-mean_d1)**2\n",
    "    sum7+=np.sum(cal7)\n",
    "for i in range(len(d2)):   \n",
    "    cal8=(d2[i]-mean_d2)**2\n",
    "    sum8+=np.sum(cal8)"
   ]
  },
  {
   "cell_type": "code",
   "execution_count": 25,
   "id": "e1e8c6f8",
   "metadata": {},
   "outputs": [],
   "source": [
    "c1 = df3.weight\n",
    "c2 = df3.ph\n",
    "sum_c1=sum(c1)\n",
    "sum_c2=sum(c2)\n",
    "mean_c1=sum_c1/n3\n",
    "mean_c2=sum_c2/n3\n",
    "for i in range(len(c1)):\n",
    "    cal9=(c1[i]-mean_c1)**2\n",
    "    sum9+=np.sum(cal9)\n",
    "for i in range(len(c2)):   \n",
    "    cal10=(c2[i]-mean_c2)**2\n",
    "    sum10+=np.sum(cal10)"
   ]
  },
  {
   "cell_type": "code",
   "execution_count": 26,
   "id": "e0501d1b",
   "metadata": {},
   "outputs": [
    {
     "data": {
      "text/plain": [
       "0.5"
      ]
     },
     "execution_count": 26,
     "metadata": {},
     "output_type": "execute_result"
    }
   ],
   "source": [
    "SSE3=s+sum7+sum8+sum9+sum10\n",
    "SSE3"
   ]
  },
  {
   "cell_type": "markdown",
   "id": "299a9207",
   "metadata": {},
   "source": [
    "# Plot the Result"
   ]
  },
  {
   "cell_type": "code",
   "execution_count": 27,
   "id": "7057c7e0",
   "metadata": {},
   "outputs": [
    {
     "data": {
      "text/html": [
       "<div>\n",
       "<style scoped>\n",
       "    .dataframe tbody tr th:only-of-type {\n",
       "        vertical-align: middle;\n",
       "    }\n",
       "\n",
       "    .dataframe tbody tr th {\n",
       "        vertical-align: top;\n",
       "    }\n",
       "\n",
       "    .dataframe thead th {\n",
       "        text-align: right;\n",
       "    }\n",
       "</style>\n",
       "<table border=\"1\" class=\"dataframe\">\n",
       "  <thead>\n",
       "    <tr style=\"text-align: right;\">\n",
       "      <th></th>\n",
       "      <th>Clusters</th>\n",
       "      <th>SSE</th>\n",
       "    </tr>\n",
       "  </thead>\n",
       "  <tbody>\n",
       "    <tr>\n",
       "      <th>0</th>\n",
       "      <td>1</td>\n",
       "      <td>16.75</td>\n",
       "    </tr>\n",
       "    <tr>\n",
       "      <th>1</th>\n",
       "      <td>2</td>\n",
       "      <td>1.50</td>\n",
       "    </tr>\n",
       "    <tr>\n",
       "      <th>2</th>\n",
       "      <td>3</td>\n",
       "      <td>0.50</td>\n",
       "    </tr>\n",
       "  </tbody>\n",
       "</table>\n",
       "</div>"
      ],
      "text/plain": [
       "   Clusters    SSE\n",
       "0         1  16.75\n",
       "1         2   1.50\n",
       "2         3   0.50"
      ]
     },
     "execution_count": 27,
     "metadata": {},
     "output_type": "execute_result"
    }
   ],
   "source": [
    "lst1 = [1,2,3]\n",
    "lst2 =[SSE1,SSE2,SSE3]\n",
    "Y = pd.DataFrame(list(zip(lst1, lst2)),columns =['Clusters', 'SSE'])\n",
    "Y"
   ]
  },
  {
   "cell_type": "code",
   "execution_count": 28,
   "id": "30a3b9a6",
   "metadata": {},
   "outputs": [
    {
     "data": {
      "image/png": "[encoded data removed]",
      "text/plain": [
       "<Figure size 432x288 with 1 Axes>"
      ]
     },
     "metadata": {
      "needs_background": "light"
     },
     "output_type": "display_data"
    }
   ],
   "source": [
    "sns.scatterplot(x=\"Clusters\", y=\"SSE\",data=Y)\n",
    "plt.show()"
   ]
  },
  {
   "cell_type": "code",
   "execution_count": 29,
   "id": "d2a267bb",
   "metadata": {},
   "outputs": [
    {
     "data": {
      "image/png": "[encoded data removed]",
      "text/plain": [
       "<Figure size 432x288 with 1 Axes>"
      ]
     },
     "metadata": {
      "needs_background": "light"
     },
     "output_type": "display_data"
    }
   ],
   "source": [
    "x = Y.Clusters\n",
    "y = Y.SSE\n",
    "plt.plot(x, y)\n",
    "plt.xlabel(' Number of Clusters')\n",
    "plt.ylabel('SSE(Sum Square Error)')\n",
    "plt.title('Elbow Method')\n",
    "plt.show()"
   ]
  },
  {
   "cell_type": "code",
   "execution_count": null,
   "id": "f9ce7c1a",
   "metadata": {},
   "outputs": [],
   "source": []
  }
 ],
 "metadata": {
  "kernelspec": {
   "display_name": "Python 3 (ipykernel)",
   "language": "python",
   "name": "python3"
  },
  "language_info": {
   "codemirror_mode": {
    "name": "ipython",
    "version": 3
   },
   "file_extension": ".py",
   "mimetype": "text/x-python",
   "name": "python",
   "nbconvert_exporter": "python",
   "pygments_lexer": "ipython3",
   "version": "3.9.7"
  }
 },
 "nbformat": 4,
 "nbformat_minor": 5
}
